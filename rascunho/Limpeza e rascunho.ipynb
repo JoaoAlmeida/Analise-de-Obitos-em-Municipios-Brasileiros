{
 "cells": [
  {
   "cell_type": "code",
   "execution_count": 5,
   "metadata": {},
   "outputs": [],
   "source": [
    "import pandas\n",
    "import matplotlib.pyplot as plt\n",
    "import numpy as np\n",
    "import seaborn as sns\n"
   ]
  },
  {
   "cell_type": "code",
   "execution_count": 6,
   "metadata": {},
   "outputs": [],
   "source": [
    "sns.set(rc={'figure.figsize':(20, 10)})"
   ]
  },
  {
   "cell_type": "markdown",
   "metadata": {},
   "source": [
    "# Exploração e limpeza dos dados\n",
    "Incialmente é necessário realizar a limpeza dos dados. Então eu verifico se as tabelas possuem instâncias com valores nulos (null, ou N/A), ou incongruentes (e.g. zero ocorrências de mortes em um ano inteiro). Após a conclusão da limpeza de dados, utilizei esse caderno apenas como rascunho para explorar os dados."
   ]
  },
  {
   "cell_type": "markdown",
   "metadata": {},
   "source": [
    "### Estatísticas dos principais atributos das tabelas e visualização dos dados:"
   ]
  },
  {
   "cell_type": "code",
   "execution_count": 7,
   "metadata": {},
   "outputs": [
    {
     "data": {
      "text/html": [
       "<div>\n",
       "<style scoped>\n",
       "    .dataframe tbody tr th:only-of-type {\n",
       "        vertical-align: middle;\n",
       "    }\n",
       "\n",
       "    .dataframe tbody tr th {\n",
       "        vertical-align: top;\n",
       "    }\n",
       "\n",
       "    .dataframe thead th {\n",
       "        text-align: right;\n",
       "    }\n",
       "</style>\n",
       "<table border=\"1\" class=\"dataframe\">\n",
       "  <thead>\n",
       "    <tr style=\"text-align: right;\">\n",
       "      <th></th>\n",
       "      <th>Unnamed: 0</th>\n",
       "      <th>estado_abrev</th>\n",
       "      <th>id_municipio</th>\n",
       "      <th>ano</th>\n",
       "      <th>numero_obitos</th>\n",
       "    </tr>\n",
       "  </thead>\n",
       "  <tbody>\n",
       "    <tr>\n",
       "      <th>0</th>\n",
       "      <td>0</td>\n",
       "      <td>AP</td>\n",
       "      <td>1600000</td>\n",
       "      <td>1996</td>\n",
       "      <td>3</td>\n",
       "    </tr>\n",
       "    <tr>\n",
       "      <th>1</th>\n",
       "      <td>1</td>\n",
       "      <td>AP</td>\n",
       "      <td>1600055</td>\n",
       "      <td>1996</td>\n",
       "      <td>3</td>\n",
       "    </tr>\n",
       "    <tr>\n",
       "      <th>2</th>\n",
       "      <td>2</td>\n",
       "      <td>AP</td>\n",
       "      <td>1600105</td>\n",
       "      <td>1996</td>\n",
       "      <td>12</td>\n",
       "    </tr>\n",
       "    <tr>\n",
       "      <th>3</th>\n",
       "      <td>3</td>\n",
       "      <td>AP</td>\n",
       "      <td>1600154</td>\n",
       "      <td>1996</td>\n",
       "      <td>3</td>\n",
       "    </tr>\n",
       "    <tr>\n",
       "      <th>4</th>\n",
       "      <td>4</td>\n",
       "      <td>AP</td>\n",
       "      <td>1600204</td>\n",
       "      <td>1996</td>\n",
       "      <td>5</td>\n",
       "    </tr>\n",
       "  </tbody>\n",
       "</table>\n",
       "</div>"
      ],
      "text/plain": [
       "   Unnamed: 0 estado_abrev  id_municipio   ano  numero_obitos\n",
       "0           0           AP       1600000  1996              3\n",
       "1           1           AP       1600055  1996              3\n",
       "2           2           AP       1600105  1996             12\n",
       "3           3           AP       1600154  1996              3\n",
       "4           4           AP       1600204  1996              5"
      ]
     },
     "execution_count": 7,
     "metadata": {},
     "output_type": "execute_result"
    }
   ],
   "source": [
    "municipio = pandas.read_csv('../municipio.csv')\n",
    "m_causa = pandas.read_csv('../municipio_causa.csv')\n",
    "\n",
    "municipio.head()"
   ]
  },
  {
   "cell_type": "code",
   "execution_count": 8,
   "metadata": {},
   "outputs": [
    {
     "data": {
      "text/html": [
       "<div>\n",
       "<style scoped>\n",
       "    .dataframe tbody tr th:only-of-type {\n",
       "        vertical-align: middle;\n",
       "    }\n",
       "\n",
       "    .dataframe tbody tr th {\n",
       "        vertical-align: top;\n",
       "    }\n",
       "\n",
       "    .dataframe thead th {\n",
       "        text-align: right;\n",
       "    }\n",
       "</style>\n",
       "<table border=\"1\" class=\"dataframe\">\n",
       "  <thead>\n",
       "    <tr style=\"text-align: right;\">\n",
       "      <th></th>\n",
       "      <th>Unnamed: 0</th>\n",
       "      <th>estado_abrev</th>\n",
       "      <th>id_municipio</th>\n",
       "      <th>causa_basica</th>\n",
       "      <th>ano</th>\n",
       "      <th>numero_obitos</th>\n",
       "    </tr>\n",
       "  </thead>\n",
       "  <tbody>\n",
       "    <tr>\n",
       "      <th>0</th>\n",
       "      <td>0</td>\n",
       "      <td>AM</td>\n",
       "      <td>1300000</td>\n",
       "      <td>A162</td>\n",
       "      <td>1996</td>\n",
       "      <td>1</td>\n",
       "    </tr>\n",
       "    <tr>\n",
       "      <th>1</th>\n",
       "      <td>1</td>\n",
       "      <td>AM</td>\n",
       "      <td>1300000</td>\n",
       "      <td>A419</td>\n",
       "      <td>1996</td>\n",
       "      <td>2</td>\n",
       "    </tr>\n",
       "    <tr>\n",
       "      <th>2</th>\n",
       "      <td>2</td>\n",
       "      <td>AM</td>\n",
       "      <td>1300000</td>\n",
       "      <td>B24</td>\n",
       "      <td>1996</td>\n",
       "      <td>1</td>\n",
       "    </tr>\n",
       "    <tr>\n",
       "      <th>3</th>\n",
       "      <td>3</td>\n",
       "      <td>AM</td>\n",
       "      <td>1300000</td>\n",
       "      <td>C169</td>\n",
       "      <td>1996</td>\n",
       "      <td>1</td>\n",
       "    </tr>\n",
       "    <tr>\n",
       "      <th>4</th>\n",
       "      <td>4</td>\n",
       "      <td>AM</td>\n",
       "      <td>1300000</td>\n",
       "      <td>C240</td>\n",
       "      <td>1996</td>\n",
       "      <td>1</td>\n",
       "    </tr>\n",
       "  </tbody>\n",
       "</table>\n",
       "</div>"
      ],
      "text/plain": [
       "   Unnamed: 0 estado_abrev  id_municipio causa_basica   ano  numero_obitos\n",
       "0           0           AM       1300000         A162  1996              1\n",
       "1           1           AM       1300000         A419  1996              2\n",
       "2           2           AM       1300000          B24  1996              1\n",
       "3           3           AM       1300000         C169  1996              1\n",
       "4           4           AM       1300000         C240  1996              1"
      ]
     },
     "execution_count": 8,
     "metadata": {},
     "output_type": "execute_result"
    }
   ],
   "source": [
    "m_causa.head()"
   ]
  },
  {
   "cell_type": "code",
   "execution_count": 9,
   "metadata": {},
   "outputs": [
    {
     "data": {
      "text/html": [
       "<div>\n",
       "<style scoped>\n",
       "    .dataframe tbody tr th:only-of-type {\n",
       "        vertical-align: middle;\n",
       "    }\n",
       "\n",
       "    .dataframe tbody tr th {\n",
       "        vertical-align: top;\n",
       "    }\n",
       "\n",
       "    .dataframe thead th {\n",
       "        text-align: right;\n",
       "    }\n",
       "</style>\n",
       "<table border=\"1\" class=\"dataframe\">\n",
       "  <thead>\n",
       "    <tr style=\"text-align: right;\">\n",
       "      <th></th>\n",
       "      <th>Unnamed: 0</th>\n",
       "      <th>id_municipio</th>\n",
       "      <th>ano</th>\n",
       "      <th>numero_obitos</th>\n",
       "    </tr>\n",
       "  </thead>\n",
       "  <tbody>\n",
       "    <tr>\n",
       "      <th>count</th>\n",
       "      <td>127298.000000</td>\n",
       "      <td>1.272980e+05</td>\n",
       "      <td>127298.000000</td>\n",
       "      <td>127298.000000</td>\n",
       "    </tr>\n",
       "    <tr>\n",
       "      <th>mean</th>\n",
       "      <td>63648.500000</td>\n",
       "      <td>3.252854e+06</td>\n",
       "      <td>2007.065429</td>\n",
       "      <td>195.976260</td>\n",
       "    </tr>\n",
       "    <tr>\n",
       "      <th>std</th>\n",
       "      <td>36747.911621</td>\n",
       "      <td>9.831020e+05</td>\n",
       "      <td>6.600660</td>\n",
       "      <td>1302.752436</td>\n",
       "    </tr>\n",
       "    <tr>\n",
       "      <th>min</th>\n",
       "      <td>0.000000</td>\n",
       "      <td>1.100000e+06</td>\n",
       "      <td>1996.000000</td>\n",
       "      <td>1.000000</td>\n",
       "    </tr>\n",
       "    <tr>\n",
       "      <th>25%</th>\n",
       "      <td>31824.250000</td>\n",
       "      <td>2.512721e+06</td>\n",
       "      <td>2001.000000</td>\n",
       "      <td>27.000000</td>\n",
       "    </tr>\n",
       "    <tr>\n",
       "      <th>50%</th>\n",
       "      <td>63648.500000</td>\n",
       "      <td>3.146305e+06</td>\n",
       "      <td>2007.000000</td>\n",
       "      <td>56.000000</td>\n",
       "    </tr>\n",
       "    <tr>\n",
       "      <th>75%</th>\n",
       "      <td>95472.750000</td>\n",
       "      <td>4.118501e+06</td>\n",
       "      <td>2013.000000</td>\n",
       "      <td>127.000000</td>\n",
       "    </tr>\n",
       "    <tr>\n",
       "      <th>max</th>\n",
       "      <td>127297.000000</td>\n",
       "      <td>5.306006e+06</td>\n",
       "      <td>2018.000000</td>\n",
       "      <td>77474.000000</td>\n",
       "    </tr>\n",
       "  </tbody>\n",
       "</table>\n",
       "</div>"
      ],
      "text/plain": [
       "          Unnamed: 0  id_municipio            ano  numero_obitos\n",
       "count  127298.000000  1.272980e+05  127298.000000  127298.000000\n",
       "mean    63648.500000  3.252854e+06    2007.065429     195.976260\n",
       "std     36747.911621  9.831020e+05       6.600660    1302.752436\n",
       "min         0.000000  1.100000e+06    1996.000000       1.000000\n",
       "25%     31824.250000  2.512721e+06    2001.000000      27.000000\n",
       "50%     63648.500000  3.146305e+06    2007.000000      56.000000\n",
       "75%     95472.750000  4.118501e+06    2013.000000     127.000000\n",
       "max    127297.000000  5.306006e+06    2018.000000   77474.000000"
      ]
     },
     "execution_count": 9,
     "metadata": {},
     "output_type": "execute_result"
    }
   ],
   "source": [
    "municipio.describe()"
   ]
  },
  {
   "cell_type": "code",
   "execution_count": 10,
   "metadata": {},
   "outputs": [
    {
     "data": {
      "text/html": [
       "<div>\n",
       "<style scoped>\n",
       "    .dataframe tbody tr th:only-of-type {\n",
       "        vertical-align: middle;\n",
       "    }\n",
       "\n",
       "    .dataframe tbody tr th {\n",
       "        vertical-align: top;\n",
       "    }\n",
       "\n",
       "    .dataframe thead th {\n",
       "        text-align: right;\n",
       "    }\n",
       "</style>\n",
       "<table border=\"1\" class=\"dataframe\">\n",
       "  <thead>\n",
       "    <tr style=\"text-align: right;\">\n",
       "      <th></th>\n",
       "      <th>Unnamed: 0</th>\n",
       "      <th>id_municipio</th>\n",
       "      <th>ano</th>\n",
       "      <th>numero_obitos</th>\n",
       "    </tr>\n",
       "  </thead>\n",
       "  <tbody>\n",
       "    <tr>\n",
       "      <th>count</th>\n",
       "      <td>7.784886e+06</td>\n",
       "      <td>7.784886e+06</td>\n",
       "      <td>7.784886e+06</td>\n",
       "      <td>7.784886e+06</td>\n",
       "    </tr>\n",
       "    <tr>\n",
       "      <th>mean</th>\n",
       "      <td>3.892442e+06</td>\n",
       "      <td>3.305091e+06</td>\n",
       "      <td>2.008133e+03</td>\n",
       "      <td>3.204592e+00</td>\n",
       "    </tr>\n",
       "    <tr>\n",
       "      <th>std</th>\n",
       "      <td>2.247303e+06</td>\n",
       "      <td>9.129553e+05</td>\n",
       "      <td>6.524809e+00</td>\n",
       "      <td>2.246605e+01</td>\n",
       "    </tr>\n",
       "    <tr>\n",
       "      <th>min</th>\n",
       "      <td>0.000000e+00</td>\n",
       "      <td>1.100000e+06</td>\n",
       "      <td>1.996000e+03</td>\n",
       "      <td>1.000000e+00</td>\n",
       "    </tr>\n",
       "    <tr>\n",
       "      <th>25%</th>\n",
       "      <td>1.946221e+06</td>\n",
       "      <td>2.702355e+06</td>\n",
       "      <td>2.003000e+03</td>\n",
       "      <td>1.000000e+00</td>\n",
       "    </tr>\n",
       "    <tr>\n",
       "      <th>50%</th>\n",
       "      <td>3.892442e+06</td>\n",
       "      <td>3.300233e+06</td>\n",
       "      <td>2.009000e+03</td>\n",
       "      <td>1.000000e+00</td>\n",
       "    </tr>\n",
       "    <tr>\n",
       "      <th>75%</th>\n",
       "      <td>5.838664e+06</td>\n",
       "      <td>4.106902e+06</td>\n",
       "      <td>2.014000e+03</td>\n",
       "      <td>2.000000e+00</td>\n",
       "    </tr>\n",
       "    <tr>\n",
       "      <th>max</th>\n",
       "      <td>7.784885e+06</td>\n",
       "      <td>5.306006e+06</td>\n",
       "      <td>2.018000e+03</td>\n",
       "      <td>6.726000e+03</td>\n",
       "    </tr>\n",
       "  </tbody>\n",
       "</table>\n",
       "</div>"
      ],
      "text/plain": [
       "         Unnamed: 0  id_municipio           ano  numero_obitos\n",
       "count  7.784886e+06  7.784886e+06  7.784886e+06   7.784886e+06\n",
       "mean   3.892442e+06  3.305091e+06  2.008133e+03   3.204592e+00\n",
       "std    2.247303e+06  9.129553e+05  6.524809e+00   2.246605e+01\n",
       "min    0.000000e+00  1.100000e+06  1.996000e+03   1.000000e+00\n",
       "25%    1.946221e+06  2.702355e+06  2.003000e+03   1.000000e+00\n",
       "50%    3.892442e+06  3.300233e+06  2.009000e+03   1.000000e+00\n",
       "75%    5.838664e+06  4.106902e+06  2.014000e+03   2.000000e+00\n",
       "max    7.784885e+06  5.306006e+06  2.018000e+03   6.726000e+03"
      ]
     },
     "execution_count": 10,
     "metadata": {},
     "output_type": "execute_result"
    }
   ],
   "source": [
    "m_causa.describe()"
   ]
  },
  {
   "cell_type": "markdown",
   "metadata": {},
   "source": [
    "### Verifico se existem valores nulos e a quantidade deles"
   ]
  },
  {
   "cell_type": "code",
   "execution_count": 11,
   "metadata": {},
   "outputs": [
    {
     "data": {
      "text/plain": [
       "Unnamed: 0       0\n",
       "estado_abrev     0\n",
       "id_municipio     0\n",
       "ano              0\n",
       "numero_obitos    0\n",
       "dtype: int64"
      ]
     },
     "execution_count": 11,
     "metadata": {},
     "output_type": "execute_result"
    }
   ],
   "source": [
    "municipio.isnull().sum()"
   ]
  },
  {
   "cell_type": "code",
   "execution_count": 12,
   "metadata": {},
   "outputs": [
    {
     "data": {
      "text/plain": [
       "Unnamed: 0       326\n",
       "estado_abrev     326\n",
       "id_municipio     326\n",
       "ano              326\n",
       "numero_obitos    326\n",
       "dtype: int64"
      ]
     },
     "execution_count": 12,
     "metadata": {},
     "output_type": "execute_result"
    }
   ],
   "source": [
    "municipio[municipio['numero_obitos']==1].count()"
   ]
  },
  {
   "cell_type": "markdown",
   "metadata": {},
   "source": [
    "### Conclusão da limpeza dos dados\n",
    "\n",
    "Os dados estão limpos e sem valores nulos, ou incongruentes. O fato de ter ocorrido apenas uma morte em 326 cidades durante um ano inteiro, chama a atenção. Porém, é necessário uma análise mais profunda para entender se este valor é um ruído nos dados (causado por problema na coleta dos dados, por exemplo), ou se realmente reflete a realidade de uma cidade muito pequena.\n",
    "\n",
    "Irei mudar apenas o nome da coluna \"Unnamed: 0\" para \"id\", por organização."
   ]
  },
  {
   "cell_type": "code",
   "execution_count": 13,
   "metadata": {},
   "outputs": [
    {
     "data": {
      "text/plain": [
       "326"
      ]
     },
     "execution_count": 13,
     "metadata": {},
     "output_type": "execute_result"
    }
   ],
   "source": [
    "m = municipio.rename(columns={'Unnamed: 0': 'id'})\n",
    "c = m_causa.rename(columns={'Unnamed: 0': 'id'})\n",
    "\n",
    "uma = m[m['numero_obitos']==1]\n",
    "uma['estado_abrev'].count()"
   ]
  },
  {
   "cell_type": "markdown",
   "metadata": {},
   "source": [
    "### Agora irei analisar os dados por região, para tentar identificar algum padrão ou tendência nos dados."
   ]
  },
  {
   "cell_type": "code",
   "execution_count": 14,
   "metadata": {
    "scrolled": true
   },
   "outputs": [
    {
     "data": {
      "text/plain": [
       "array(['AP', 'AC', 'CE', 'AM', 'DF', 'ES', 'BA', 'MG', 'PB', 'PA', 'AL',\n",
       "       'GO', 'MT', 'MA', 'RN', 'PR', 'RJ', 'MS', 'PI', 'PE', 'RS', 'RO',\n",
       "       'RR', 'TO', 'SE', 'SC', 'SP'], dtype=object)"
      ]
     },
     "execution_count": 14,
     "metadata": {},
     "output_type": "execute_result"
    }
   ],
   "source": [
    "m['estado_abrev'].unique()"
   ]
  },
  {
   "cell_type": "code",
   "execution_count": 15,
   "metadata": {},
   "outputs": [],
   "source": [
    "ne = m[m['estado_abrev'].isin(['AL','BA', 'CE', 'MA','PB','PE','PI','RN','SE'])]\n",
    "co = m[m['estado_abrev'].isin(['GO','MT', 'MS', 'DF'])]\n",
    "no = m[m['estado_abrev'].isin(['AC','AP', 'AM', 'PA','RO','RR','TO'])]\n",
    "se = m[m['estado_abrev'].isin(['ES','MG', 'RJ', 'SP'])]\n",
    "sul = m[m['estado_abrev'].isin(['PR','RS', 'SC'])]"
   ]
  },
  {
   "cell_type": "code",
   "execution_count": 16,
   "metadata": {},
   "outputs": [
    {
     "data": {
      "image/png": "[encoded data removed]",
      "text/plain": [
       "<Figure size 1440x720 with 1 Axes>"
      ]
     },
     "metadata": {},
     "output_type": "display_data"
    }
   ],
   "source": [
    "#Região com a cidade com maior número de mortes\n",
    "max_obitos = [ne['numero_obitos'].max(), co['numero_obitos'].max(), no['numero_obitos'].max(), \n",
    "              se['numero_obitos'].max(), sul['numero_obitos'].max()]\n",
    "bars = ('NE', 'CO', 'NO', 'SE', 'S')\n",
    "\n",
    "y_pos = np.arange(len(bars))\n",
    " \n",
    "plt.bar(y_pos, max_obitos)\n",
    " \n",
    "plt.xticks(y_pos, bars)\n",
    " \n",
    "plt.show()"
   ]
  },
  {
   "cell_type": "code",
   "execution_count": 17,
   "metadata": {},
   "outputs": [
    {
     "data": {
      "image/png": "[encoded data removed]",
      "text/plain": [
       "<Figure size 1440x720 with 1 Axes>"
      ]
     },
     "metadata": {},
     "output_type": "display_data"
    }
   ],
   "source": [
    "#Média de mortes ocorridas em cada região\n",
    "mean_obitos = [ne['numero_obitos'].mean(), co['numero_obitos'].mean(), no['numero_obitos'].mean(), \n",
    "              se['numero_obitos'].mean(), sul['numero_obitos'].mean()]\n",
    "bars = ('NE', 'CO', 'NO', 'SE', 'S')\n",
    "\n",
    "y_pos = np.arange(len(bars))\n",
    " \n",
    "plt.bar(y_pos, mean_obitos)\n",
    " \n",
    "plt.xticks(y_pos, bars)\n",
    " \n",
    "plt.show()"
   ]
  },
  {
   "cell_type": "code",
   "execution_count": 18,
   "metadata": {},
   "outputs": [
    {
     "data": {
      "text/plain": [
       "6301059"
      ]
     },
     "execution_count": 18,
     "metadata": {},
     "output_type": "execute_result"
    }
   ],
   "source": [
    "ne['numero_obitos'].sum()"
   ]
  },
  {
   "cell_type": "code",
   "execution_count": 19,
   "metadata": {},
   "outputs": [
    {
     "data": {
      "text/plain": [
       "3932891"
      ]
     },
     "execution_count": 19,
     "metadata": {},
     "output_type": "execute_result"
    }
   ],
   "source": [
    "sul['numero_obitos'].sum()"
   ]
  },
  {
   "cell_type": "code",
   "execution_count": 20,
   "metadata": {},
   "outputs": [
    {
     "data": {
      "image/png": "[encoded data removed]",
      "text/plain": [
       "<Figure size 1440x720 with 1 Axes>"
      ]
     },
     "metadata": {},
     "output_type": "display_data"
    }
   ],
   "source": [
    "#total de mortes ocorridas em cada região\n",
    "total_obitos = [ne['numero_obitos'].sum(), co['numero_obitos'].sum(), no['numero_obitos'].sum(), \n",
    "              se['numero_obitos'].sum(), sul['numero_obitos'].sum()]\n",
    "bars = ('NE', 'CO', 'NO', 'SE', 'S')\n",
    "\n",
    "y_pos = np.arange(len(bars))\n",
    " \n",
    "plt.bar(y_pos, total_obitos)\n",
    " \n",
    "plt.xticks(y_pos, bars)\n",
    "\n",
    "plt.xlabel('Regiões')\n",
    "plt.ylabel(\"Total de mortes\")\n",
    " \n",
    "plt.show()"
   ]
  },
  {
   "cell_type": "code",
   "execution_count": 21,
   "metadata": {},
   "outputs": [
    {
     "data": {
      "image/png": "[encoded data removed]",
      "text/plain": [
       "<Figure size 1440x720 with 1 Axes>"
      ]
     },
     "metadata": {},
     "output_type": "display_data"
    }
   ],
   "source": [
    "#desvio padrão das mortes ocorridas em cada região\n",
    "total_obitos = [ne['numero_obitos'].std(), co['numero_obitos'].std(), no['numero_obitos'].std(), \n",
    "              se['numero_obitos'].std(), sul['numero_obitos'].std()]\n",
    "bars = ('NE', 'CO', 'NO', 'SE', 'S')\n",
    "\n",
    "y_pos = np.arange(len(bars))\n",
    " \n",
    "plt.bar(y_pos, total_obitos)\n",
    " \n",
    "plt.xticks(y_pos, bars)\n",
    " \n",
    "plt.show()"
   ]
  },
  {
   "cell_type": "code",
   "execution_count": 22,
   "metadata": {},
   "outputs": [],
   "source": [
    "no2 = no.groupby(['id_municipio']).agg({'numero_obitos': 'sum'})"
   ]
  },
  {
   "cell_type": "code",
   "execution_count": 23,
   "metadata": {},
   "outputs": [
    {
     "data": {
      "text/plain": [
       "numero_obitos    19\n",
       "Name: 1600000, dtype: int64"
      ]
     },
     "execution_count": 23,
     "metadata": {},
     "output_type": "execute_result"
    }
   ],
   "source": [
    "no2.loc[1600000]"
   ]
  },
  {
   "cell_type": "code",
   "execution_count": 24,
   "metadata": {},
   "outputs": [
    {
     "data": {
      "text/plain": [
       "<matplotlib.axes._subplots.AxesSubplot at 0x145a3224fd0>"
      ]
     },
     "execution_count": 24,
     "metadata": {},
     "output_type": "execute_result"
    },
    {
     "data": {
      "image/png": "[encoded data removed]",
      "text/plain": [
       "<Figure size 1440x720 with 1 Axes>"
      ]
     },
     "metadata": {},
     "output_type": "display_data"
    }
   ],
   "source": [
    "no2.plot()"
   ]
  },
  {
   "cell_type": "code",
   "execution_count": 25,
   "metadata": {},
   "outputs": [
    {
     "data": {
      "text/html": [
       "<div>\n",
       "<style scoped>\n",
       "    .dataframe tbody tr th:only-of-type {\n",
       "        vertical-align: middle;\n",
       "    }\n",
       "\n",
       "    .dataframe tbody tr th {\n",
       "        vertical-align: top;\n",
       "    }\n",
       "\n",
       "    .dataframe thead th {\n",
       "        text-align: right;\n",
       "    }\n",
       "</style>\n",
       "<table border=\"1\" class=\"dataframe\">\n",
       "  <thead>\n",
       "    <tr style=\"text-align: right;\">\n",
       "      <th></th>\n",
       "      <th>id</th>\n",
       "      <th>estado_abrev</th>\n",
       "      <th>id_municipio</th>\n",
       "      <th>ano</th>\n",
       "      <th>numero_obitos</th>\n",
       "    </tr>\n",
       "  </thead>\n",
       "  <tbody>\n",
       "    <tr>\n",
       "      <th>0</th>\n",
       "      <td>0</td>\n",
       "      <td>AP</td>\n",
       "      <td>1600000</td>\n",
       "      <td>1996</td>\n",
       "      <td>3</td>\n",
       "    </tr>\n",
       "    <tr>\n",
       "      <th>6695</th>\n",
       "      <td>6695</td>\n",
       "      <td>AP</td>\n",
       "      <td>1600000</td>\n",
       "      <td>1997</td>\n",
       "      <td>2</td>\n",
       "    </tr>\n",
       "    <tr>\n",
       "      <th>73089</th>\n",
       "      <td>73089</td>\n",
       "      <td>AP</td>\n",
       "      <td>1600000</td>\n",
       "      <td>2001</td>\n",
       "      <td>6</td>\n",
       "    </tr>\n",
       "    <tr>\n",
       "      <th>96512</th>\n",
       "      <td>96512</td>\n",
       "      <td>AP</td>\n",
       "      <td>1600000</td>\n",
       "      <td>1998</td>\n",
       "      <td>3</td>\n",
       "    </tr>\n",
       "    <tr>\n",
       "      <th>96779</th>\n",
       "      <td>96779</td>\n",
       "      <td>AP</td>\n",
       "      <td>1600000</td>\n",
       "      <td>1999</td>\n",
       "      <td>5</td>\n",
       "    </tr>\n",
       "  </tbody>\n",
       "</table>\n",
       "</div>"
      ],
      "text/plain": [
       "          id estado_abrev  id_municipio   ano  numero_obitos\n",
       "0          0           AP       1600000  1996              3\n",
       "6695    6695           AP       1600000  1997              2\n",
       "73089  73089           AP       1600000  2001              6\n",
       "96512  96512           AP       1600000  1998              3\n",
       "96779  96779           AP       1600000  1999              5"
      ]
     },
     "execution_count": 25,
     "metadata": {},
     "output_type": "execute_result"
    }
   ],
   "source": [
    "no[no['id_municipio']==1600000]"
   ]
  },
  {
   "cell_type": "code",
   "execution_count": 26,
   "metadata": {},
   "outputs": [
    {
     "data": {
      "text/html": [
       "<div>\n",
       "<style scoped>\n",
       "    .dataframe tbody tr th:only-of-type {\n",
       "        vertical-align: middle;\n",
       "    }\n",
       "\n",
       "    .dataframe tbody tr th {\n",
       "        vertical-align: top;\n",
       "    }\n",
       "\n",
       "    .dataframe thead th {\n",
       "        text-align: right;\n",
       "    }\n",
       "</style>\n",
       "<table border=\"1\" class=\"dataframe\">\n",
       "  <thead>\n",
       "    <tr style=\"text-align: right;\">\n",
       "      <th></th>\n",
       "      <th>Unnamed: 0</th>\n",
       "      <th>estado_abrev</th>\n",
       "      <th>id_municipio</th>\n",
       "      <th>ano</th>\n",
       "      <th>numero_obitos</th>\n",
       "    </tr>\n",
       "  </thead>\n",
       "  <tbody>\n",
       "    <tr>\n",
       "      <th>0</th>\n",
       "      <td>0</td>\n",
       "      <td>AP</td>\n",
       "      <td>1600000</td>\n",
       "      <td>1996</td>\n",
       "      <td>3</td>\n",
       "    </tr>\n",
       "    <tr>\n",
       "      <th>6695</th>\n",
       "      <td>6695</td>\n",
       "      <td>AP</td>\n",
       "      <td>1600000</td>\n",
       "      <td>1997</td>\n",
       "      <td>2</td>\n",
       "    </tr>\n",
       "    <tr>\n",
       "      <th>73089</th>\n",
       "      <td>73089</td>\n",
       "      <td>AP</td>\n",
       "      <td>1600000</td>\n",
       "      <td>2001</td>\n",
       "      <td>6</td>\n",
       "    </tr>\n",
       "    <tr>\n",
       "      <th>96512</th>\n",
       "      <td>96512</td>\n",
       "      <td>AP</td>\n",
       "      <td>1600000</td>\n",
       "      <td>1998</td>\n",
       "      <td>3</td>\n",
       "    </tr>\n",
       "    <tr>\n",
       "      <th>96779</th>\n",
       "      <td>96779</td>\n",
       "      <td>AP</td>\n",
       "      <td>1600000</td>\n",
       "      <td>1999</td>\n",
       "      <td>5</td>\n",
       "    </tr>\n",
       "  </tbody>\n",
       "</table>\n",
       "</div>"
      ],
      "text/plain": [
       "       Unnamed: 0 estado_abrev  id_municipio   ano  numero_obitos\n",
       "0               0           AP       1600000  1996              3\n",
       "6695         6695           AP       1600000  1997              2\n",
       "73089       73089           AP       1600000  2001              6\n",
       "96512       96512           AP       1600000  1998              3\n",
       "96779       96779           AP       1600000  1999              5"
      ]
     },
     "execution_count": 26,
     "metadata": {},
     "output_type": "execute_result"
    }
   ],
   "source": [
    "municipio[municipio['id_municipio']==1600000]\n"
   ]
  },
  {
   "cell_type": "code",
   "execution_count": 27,
   "metadata": {},
   "outputs": [
    {
     "data": {
      "text/plain": [
       "37        390\n",
       "38         14\n",
       "39         44\n",
       "40        207\n",
       "41        237\n",
       "         ... \n",
       "125716    145\n",
       "125717     15\n",
       "125718    137\n",
       "125719     95\n",
       "125720    114\n",
       "Name: numero_obitos, Length: 40932, dtype: int64"
      ]
     },
     "execution_count": 27,
     "metadata": {},
     "output_type": "execute_result"
    }
   ],
   "source": [
    "ne['numero_obitos']"
   ]
  },
  {
   "cell_type": "code",
   "execution_count": 28,
   "metadata": {},
   "outputs": [
    {
     "data": {
      "text/html": [
       "<div>\n",
       "<style scoped>\n",
       "    .dataframe tbody tr th:only-of-type {\n",
       "        vertical-align: middle;\n",
       "    }\n",
       "\n",
       "    .dataframe tbody tr th {\n",
       "        vertical-align: top;\n",
       "    }\n",
       "\n",
       "    .dataframe thead th {\n",
       "        text-align: right;\n",
       "    }\n",
       "</style>\n",
       "<table border=\"1\" class=\"dataframe\">\n",
       "  <thead>\n",
       "    <tr style=\"text-align: right;\">\n",
       "      <th></th>\n",
       "      <th>id</th>\n",
       "      <th>id_municipio</th>\n",
       "      <th>ano</th>\n",
       "      <th>numero_obitos</th>\n",
       "    </tr>\n",
       "  </thead>\n",
       "  <tbody>\n",
       "    <tr>\n",
       "      <th>count</th>\n",
       "      <td>40932.000000</td>\n",
       "      <td>4.093200e+04</td>\n",
       "      <td>40932.000000</td>\n",
       "      <td>40932.000000</td>\n",
       "    </tr>\n",
       "    <tr>\n",
       "      <th>mean</th>\n",
       "      <td>61005.989373</td>\n",
       "      <td>2.523277e+06</td>\n",
       "      <td>2007.089075</td>\n",
       "      <td>153.939680</td>\n",
       "    </tr>\n",
       "    <tr>\n",
       "      <th>std</th>\n",
       "      <td>35215.938115</td>\n",
       "      <td>2.854665e+05</td>\n",
       "      <td>6.586810</td>\n",
       "      <td>617.568399</td>\n",
       "    </tr>\n",
       "    <tr>\n",
       "      <th>min</th>\n",
       "      <td>37.000000</td>\n",
       "      <td>2.100000e+06</td>\n",
       "      <td>1996.000000</td>\n",
       "      <td>1.000000</td>\n",
       "    </tr>\n",
       "    <tr>\n",
       "      <th>25%</th>\n",
       "      <td>32294.750000</td>\n",
       "      <td>2.301307e+06</td>\n",
       "      <td>2001.000000</td>\n",
       "      <td>32.000000</td>\n",
       "    </tr>\n",
       "    <tr>\n",
       "      <th>50%</th>\n",
       "      <td>55854.500000</td>\n",
       "      <td>2.508901e+06</td>\n",
       "      <td>2007.000000</td>\n",
       "      <td>64.000000</td>\n",
       "    </tr>\n",
       "    <tr>\n",
       "      <th>75%</th>\n",
       "      <td>90181.250000</td>\n",
       "      <td>2.804904e+06</td>\n",
       "      <td>2013.000000</td>\n",
       "      <td>127.000000</td>\n",
       "    </tr>\n",
       "    <tr>\n",
       "      <th>max</th>\n",
       "      <td>125720.000000</td>\n",
       "      <td>2.933604e+06</td>\n",
       "      <td>2018.000000</td>\n",
       "      <td>17600.000000</td>\n",
       "    </tr>\n",
       "  </tbody>\n",
       "</table>\n",
       "</div>"
      ],
      "text/plain": [
       "                  id  id_municipio           ano  numero_obitos\n",
       "count   40932.000000  4.093200e+04  40932.000000   40932.000000\n",
       "mean    61005.989373  2.523277e+06   2007.089075     153.939680\n",
       "std     35215.938115  2.854665e+05      6.586810     617.568399\n",
       "min        37.000000  2.100000e+06   1996.000000       1.000000\n",
       "25%     32294.750000  2.301307e+06   2001.000000      32.000000\n",
       "50%     55854.500000  2.508901e+06   2007.000000      64.000000\n",
       "75%     90181.250000  2.804904e+06   2013.000000     127.000000\n",
       "max    125720.000000  2.933604e+06   2018.000000   17600.000000"
      ]
     },
     "execution_count": 28,
     "metadata": {},
     "output_type": "execute_result"
    }
   ],
   "source": [
    "ne.describe()"
   ]
  },
  {
   "cell_type": "code",
   "execution_count": 29,
   "metadata": {},
   "outputs": [
    {
     "data": {
      "text/html": [
       "<div>\n",
       "<style scoped>\n",
       "    .dataframe tbody tr th:only-of-type {\n",
       "        vertical-align: middle;\n",
       "    }\n",
       "\n",
       "    .dataframe tbody tr th {\n",
       "        vertical-align: top;\n",
       "    }\n",
       "\n",
       "    .dataframe thead th {\n",
       "        text-align: right;\n",
       "    }\n",
       "</style>\n",
       "<table border=\"1\" class=\"dataframe\">\n",
       "  <thead>\n",
       "    <tr style=\"text-align: right;\">\n",
       "      <th></th>\n",
       "      <th>id</th>\n",
       "      <th>id_municipio</th>\n",
       "      <th>ano</th>\n",
       "      <th>numero_obitos</th>\n",
       "    </tr>\n",
       "  </thead>\n",
       "  <tbody>\n",
       "    <tr>\n",
       "      <th>count</th>\n",
       "      <td>10629.000000</td>\n",
       "      <td>1.062900e+04</td>\n",
       "      <td>10629.000000</td>\n",
       "      <td>10629.000000</td>\n",
       "    </tr>\n",
       "    <tr>\n",
       "      <th>mean</th>\n",
       "      <td>64184.788974</td>\n",
       "      <td>5.140040e+06</td>\n",
       "      <td>2007.093330</td>\n",
       "      <td>145.635525</td>\n",
       "    </tr>\n",
       "    <tr>\n",
       "      <th>std</th>\n",
       "      <td>36453.918624</td>\n",
       "      <td>1.510935e+05</td>\n",
       "      <td>6.597403</td>\n",
       "      <td>647.457887</td>\n",
       "    </tr>\n",
       "    <tr>\n",
       "      <th>min</th>\n",
       "      <td>280.000000</td>\n",
       "      <td>1.700707e+06</td>\n",
       "      <td>1996.000000</td>\n",
       "      <td>1.000000</td>\n",
       "    </tr>\n",
       "    <tr>\n",
       "      <th>25%</th>\n",
       "      <td>35307.000000</td>\n",
       "      <td>5.103379e+06</td>\n",
       "      <td>2001.000000</td>\n",
       "      <td>19.000000</td>\n",
       "    </tr>\n",
       "    <tr>\n",
       "      <th>50%</th>\n",
       "      <td>64143.000000</td>\n",
       "      <td>5.200902e+06</td>\n",
       "      <td>2007.000000</td>\n",
       "      <td>40.000000</td>\n",
       "    </tr>\n",
       "    <tr>\n",
       "      <th>75%</th>\n",
       "      <td>96589.000000</td>\n",
       "      <td>5.212105e+06</td>\n",
       "      <td>2013.000000</td>\n",
       "      <td>93.000000</td>\n",
       "    </tr>\n",
       "    <tr>\n",
       "      <th>max</th>\n",
       "      <td>126652.000000</td>\n",
       "      <td>5.306006e+06</td>\n",
       "      <td>2018.000000</td>\n",
       "      <td>12514.000000</td>\n",
       "    </tr>\n",
       "  </tbody>\n",
       "</table>\n",
       "</div>"
      ],
      "text/plain": [
       "                  id  id_municipio           ano  numero_obitos\n",
       "count   10629.000000  1.062900e+04  10629.000000   10629.000000\n",
       "mean    64184.788974  5.140040e+06   2007.093330     145.635525\n",
       "std     36453.918624  1.510935e+05      6.597403     647.457887\n",
       "min       280.000000  1.700707e+06   1996.000000       1.000000\n",
       "25%     35307.000000  5.103379e+06   2001.000000      19.000000\n",
       "50%     64143.000000  5.200902e+06   2007.000000      40.000000\n",
       "75%     96589.000000  5.212105e+06   2013.000000      93.000000\n",
       "max    126652.000000  5.306006e+06   2018.000000   12514.000000"
      ]
     },
     "execution_count": 29,
     "metadata": {},
     "output_type": "execute_result"
    }
   ],
   "source": [
    "co.describe()"
   ]
  },
  {
   "cell_type": "code",
   "execution_count": 30,
   "metadata": {},
   "outputs": [
    {
     "data": {
      "text/html": [
       "<div>\n",
       "<style scoped>\n",
       "    .dataframe tbody tr th:only-of-type {\n",
       "        vertical-align: middle;\n",
       "    }\n",
       "\n",
       "    .dataframe tbody tr th {\n",
       "        vertical-align: top;\n",
       "    }\n",
       "\n",
       "    .dataframe thead th {\n",
       "        text-align: right;\n",
       "    }\n",
       "</style>\n",
       "<table border=\"1\" class=\"dataframe\">\n",
       "  <thead>\n",
       "    <tr style=\"text-align: right;\">\n",
       "      <th></th>\n",
       "      <th>id</th>\n",
       "      <th>id_municipio</th>\n",
       "      <th>ano</th>\n",
       "      <th>numero_obitos</th>\n",
       "    </tr>\n",
       "  </thead>\n",
       "  <tbody>\n",
       "    <tr>\n",
       "      <th>count</th>\n",
       "      <td>10295.000000</td>\n",
       "      <td>1.029500e+04</td>\n",
       "      <td>10295.000000</td>\n",
       "      <td>10295.000000</td>\n",
       "    </tr>\n",
       "    <tr>\n",
       "      <th>mean</th>\n",
       "      <td>61030.958038</td>\n",
       "      <td>1.478543e+06</td>\n",
       "      <td>2007.059835</td>\n",
       "      <td>134.895580</td>\n",
       "    </tr>\n",
       "    <tr>\n",
       "      <th>std</th>\n",
       "      <td>34405.774799</td>\n",
       "      <td>2.058017e+05</td>\n",
       "      <td>6.596132</td>\n",
       "      <td>570.966494</td>\n",
       "    </tr>\n",
       "    <tr>\n",
       "      <th>min</th>\n",
       "      <td>0.000000</td>\n",
       "      <td>1.100000e+06</td>\n",
       "      <td>1996.000000</td>\n",
       "      <td>1.000000</td>\n",
       "    </tr>\n",
       "    <tr>\n",
       "      <th>25%</th>\n",
       "      <td>35619.500000</td>\n",
       "      <td>1.302603e+06</td>\n",
       "      <td>2001.000000</td>\n",
       "      <td>19.000000</td>\n",
       "    </tr>\n",
       "    <tr>\n",
       "      <th>50%</th>\n",
       "      <td>57547.000000</td>\n",
       "      <td>1.504752e+06</td>\n",
       "      <td>2007.000000</td>\n",
       "      <td>41.000000</td>\n",
       "    </tr>\n",
       "    <tr>\n",
       "      <th>75%</th>\n",
       "      <td>88044.500000</td>\n",
       "      <td>1.703602e+06</td>\n",
       "      <td>2013.000000</td>\n",
       "      <td>94.000000</td>\n",
       "    </tr>\n",
       "    <tr>\n",
       "      <th>max</th>\n",
       "      <td>125782.000000</td>\n",
       "      <td>1.722107e+06</td>\n",
       "      <td>2018.000000</td>\n",
       "      <td>10837.000000</td>\n",
       "    </tr>\n",
       "  </tbody>\n",
       "</table>\n",
       "</div>"
      ],
      "text/plain": [
       "                  id  id_municipio           ano  numero_obitos\n",
       "count   10295.000000  1.029500e+04  10295.000000   10295.000000\n",
       "mean    61030.958038  1.478543e+06   2007.059835     134.895580\n",
       "std     34405.774799  2.058017e+05      6.596132     570.966494\n",
       "min         0.000000  1.100000e+06   1996.000000       1.000000\n",
       "25%     35619.500000  1.302603e+06   2001.000000      19.000000\n",
       "50%     57547.000000  1.504752e+06   2007.000000      41.000000\n",
       "75%     88044.500000  1.703602e+06   2013.000000      94.000000\n",
       "max    125782.000000  1.722107e+06   2018.000000   10837.000000"
      ]
     },
     "execution_count": 30,
     "metadata": {},
     "output_type": "execute_result"
    }
   ],
   "source": [
    "no.describe()"
   ]
  },
  {
   "cell_type": "code",
   "execution_count": 31,
   "metadata": {},
   "outputs": [
    {
     "data": {
      "text/html": [
       "<div>\n",
       "<style scoped>\n",
       "    .dataframe tbody tr th:only-of-type {\n",
       "        vertical-align: middle;\n",
       "    }\n",
       "\n",
       "    .dataframe tbody tr th {\n",
       "        vertical-align: top;\n",
       "    }\n",
       "\n",
       "    .dataframe thead th {\n",
       "        text-align: right;\n",
       "    }\n",
       "</style>\n",
       "<table border=\"1\" class=\"dataframe\">\n",
       "  <thead>\n",
       "    <tr style=\"text-align: right;\">\n",
       "      <th></th>\n",
       "      <th>id</th>\n",
       "      <th>id_municipio</th>\n",
       "      <th>ano</th>\n",
       "      <th>numero_obitos</th>\n",
       "    </tr>\n",
       "  </thead>\n",
       "  <tbody>\n",
       "    <tr>\n",
       "      <th>count</th>\n",
       "      <td>38334.000000</td>\n",
       "      <td>3.833400e+04</td>\n",
       "      <td>38334.000000</td>\n",
       "      <td>38334.000000</td>\n",
       "    </tr>\n",
       "    <tr>\n",
       "      <th>mean</th>\n",
       "      <td>63630.441931</td>\n",
       "      <td>3.301270e+06</td>\n",
       "      <td>2007.013748</td>\n",
       "      <td>307.213596</td>\n",
       "    </tr>\n",
       "    <tr>\n",
       "      <th>std</th>\n",
       "      <td>39507.472866</td>\n",
       "      <td>1.858850e+05</td>\n",
       "      <td>6.621948</td>\n",
       "      <td>2197.326327</td>\n",
       "    </tr>\n",
       "    <tr>\n",
       "      <th>min</th>\n",
       "      <td>281.000000</td>\n",
       "      <td>3.100000e+06</td>\n",
       "      <td>1996.000000</td>\n",
       "      <td>1.000000</td>\n",
       "    </tr>\n",
       "    <tr>\n",
       "      <th>25%</th>\n",
       "      <td>26214.250000</td>\n",
       "      <td>3.136652e+06</td>\n",
       "      <td>2001.000000</td>\n",
       "      <td>30.000000</td>\n",
       "    </tr>\n",
       "    <tr>\n",
       "      <th>50%</th>\n",
       "      <td>69159.500000</td>\n",
       "      <td>3.171018e+06</td>\n",
       "      <td>2007.000000</td>\n",
       "      <td>66.000000</td>\n",
       "    </tr>\n",
       "    <tr>\n",
       "      <th>75%</th>\n",
       "      <td>101401.750000</td>\n",
       "      <td>3.520004e+06</td>\n",
       "      <td>2013.000000</td>\n",
       "      <td>164.000000</td>\n",
       "    </tr>\n",
       "    <tr>\n",
       "      <th>max</th>\n",
       "      <td>127297.000000</td>\n",
       "      <td>3.580586e+06</td>\n",
       "      <td>2018.000000</td>\n",
       "      <td>77474.000000</td>\n",
       "    </tr>\n",
       "  </tbody>\n",
       "</table>\n",
       "</div>"
      ],
      "text/plain": [
       "                  id  id_municipio           ano  numero_obitos\n",
       "count   38334.000000  3.833400e+04  38334.000000   38334.000000\n",
       "mean    63630.441931  3.301270e+06   2007.013748     307.213596\n",
       "std     39507.472866  1.858850e+05      6.621948    2197.326327\n",
       "min       281.000000  3.100000e+06   1996.000000       1.000000\n",
       "25%     26214.250000  3.136652e+06   2001.000000      30.000000\n",
       "50%     69159.500000  3.171018e+06   2007.000000      66.000000\n",
       "75%    101401.750000  3.520004e+06   2013.000000     164.000000\n",
       "max    127297.000000  3.580586e+06   2018.000000   77474.000000"
      ]
     },
     "execution_count": 31,
     "metadata": {},
     "output_type": "execute_result"
    }
   ],
   "source": [
    "se.describe()"
   ]
  },
  {
   "cell_type": "code",
   "execution_count": 32,
   "metadata": {},
   "outputs": [
    {
     "data": {
      "text/html": [
       "<div>\n",
       "<style scoped>\n",
       "    .dataframe tbody tr th:only-of-type {\n",
       "        vertical-align: middle;\n",
       "    }\n",
       "\n",
       "    .dataframe tbody tr th {\n",
       "        vertical-align: top;\n",
       "    }\n",
       "\n",
       "    .dataframe thead th {\n",
       "        text-align: right;\n",
       "    }\n",
       "</style>\n",
       "<table border=\"1\" class=\"dataframe\">\n",
       "  <thead>\n",
       "    <tr style=\"text-align: right;\">\n",
       "      <th></th>\n",
       "      <th>id</th>\n",
       "      <th>id_municipio</th>\n",
       "      <th>ano</th>\n",
       "      <th>numero_obitos</th>\n",
       "    </tr>\n",
       "  </thead>\n",
       "  <tbody>\n",
       "    <tr>\n",
       "      <th>count</th>\n",
       "      <td>27108.000000</td>\n",
       "      <td>2.710800e+04</td>\n",
       "      <td>27108.000000</td>\n",
       "      <td>27108.00000</td>\n",
       "    </tr>\n",
       "    <tr>\n",
       "      <th>mean</th>\n",
       "      <td>68447.926811</td>\n",
       "      <td>4.219901e+06</td>\n",
       "      <td>2007.093994</td>\n",
       "      <td>145.08230</td>\n",
       "    </tr>\n",
       "    <tr>\n",
       "      <th>std</th>\n",
       "      <td>35424.980899</td>\n",
       "      <td>8.569086e+04</td>\n",
       "      <td>6.594441</td>\n",
       "      <td>503.01627</td>\n",
       "    </tr>\n",
       "    <tr>\n",
       "      <th>min</th>\n",
       "      <td>2552.000000</td>\n",
       "      <td>4.100000e+06</td>\n",
       "      <td>1996.000000</td>\n",
       "      <td>1.00000</td>\n",
       "    </tr>\n",
       "    <tr>\n",
       "      <th>25%</th>\n",
       "      <td>44731.750000</td>\n",
       "      <td>4.121307e+06</td>\n",
       "      <td>2001.000000</td>\n",
       "      <td>24.00000</td>\n",
       "    </tr>\n",
       "    <tr>\n",
       "      <th>50%</th>\n",
       "      <td>71338.500000</td>\n",
       "      <td>4.212700e+06</td>\n",
       "      <td>2007.000000</td>\n",
       "      <td>48.00000</td>\n",
       "    </tr>\n",
       "    <tr>\n",
       "      <th>75%</th>\n",
       "      <td>98318.250000</td>\n",
       "      <td>4.309902e+06</td>\n",
       "      <td>2013.000000</td>\n",
       "      <td>107.00000</td>\n",
       "    </tr>\n",
       "    <tr>\n",
       "      <th>max</th>\n",
       "      <td>126573.000000</td>\n",
       "      <td>4.323804e+06</td>\n",
       "      <td>2018.000000</td>\n",
       "      <td>12402.00000</td>\n",
       "    </tr>\n",
       "  </tbody>\n",
       "</table>\n",
       "</div>"
      ],
      "text/plain": [
       "                  id  id_municipio           ano  numero_obitos\n",
       "count   27108.000000  2.710800e+04  27108.000000    27108.00000\n",
       "mean    68447.926811  4.219901e+06   2007.093994      145.08230\n",
       "std     35424.980899  8.569086e+04      6.594441      503.01627\n",
       "min      2552.000000  4.100000e+06   1996.000000        1.00000\n",
       "25%     44731.750000  4.121307e+06   2001.000000       24.00000\n",
       "50%     71338.500000  4.212700e+06   2007.000000       48.00000\n",
       "75%     98318.250000  4.309902e+06   2013.000000      107.00000\n",
       "max    126573.000000  4.323804e+06   2018.000000    12402.00000"
      ]
     },
     "execution_count": 32,
     "metadata": {},
     "output_type": "execute_result"
    }
   ],
   "source": [
    "sul.describe()"
   ]
  },
  {
   "cell_type": "code",
   "execution_count": 33,
   "metadata": {},
   "outputs": [
    {
     "data": {
      "text/plain": [
       "array([2900000, 2900108, 2900207, 2900306, 2900355, 2900405, 2900504,\n",
       "       2900603, 2900702, 2900801, 2900900, 2901007, 2901106, 2901155,\n",
       "       2901205, 2901304, 2901353, 2901403, 2901502, 2901601, 2901700,\n",
       "       2901809, 2901908, 2901957, 2902005, 2902054, 2902104, 2902203,\n",
       "       2902252, 2902302, 2902401, 2902500, 2902609, 2902658, 2902708,\n",
       "       2902807, 2902906, 2903003, 2903102, 2903201, 2903235, 2903300,\n",
       "       2903409, 2903508, 2903607, 2903706, 2903805, 2903904, 2903953,\n",
       "       2904001, 2904050, 2904100, 2904209, 2904308, 2904407, 2904506,\n",
       "       2904605, 2904704, 2904753, 2904803, 2904852, 2904902, 2905008,\n",
       "       2905107, 2905156, 2905206, 2905305, 2905404, 2905503, 2905602,\n",
       "       2905701, 2905800, 2905909, 2906006, 2906105, 2906204, 2906303,\n",
       "       2906402, 2906501, 2906600, 2906709, 2906808, 2906824, 2906857,\n",
       "       2906873, 2906899, 2906907, 2907004, 2907103, 2907202, 2907301,\n",
       "       2907400, 2907509, 2907558, 2907608, 2907707, 2907806, 2907905,\n",
       "       2908002, 2908101, 2908200, 2908309, 2908408, 2908507, 2908606,\n",
       "       2908705, 2908804, 2908903, 2909000, 2909109, 2909208, 2909307,\n",
       "       2909406, 2909505, 2909604, 2909703, 2909802, 2909901, 2910008,\n",
       "       2910057, 2910107, 2910206, 2910305, 2910404, 2910503, 2910602,\n",
       "       2910701, 2910727, 2910750, 2910776, 2910800, 2910859, 2910909,\n",
       "       2911006, 2911105, 2911204, 2911253, 2911303, 2911402, 2911501,\n",
       "       2911600, 2911659, 2911709, 2911808, 2911857, 2911907, 2912004,\n",
       "       2912103, 2912202, 2912301, 2912400, 2912509, 2912608, 2912707,\n",
       "       2912806, 2912905, 2913002, 2913101, 2913200, 2913309, 2913408,\n",
       "       2913457, 2913507, 2913606, 2913705, 2913804, 2913903, 2914000,\n",
       "       2914109, 2914208, 2914307, 2914406, 2914505, 2914604, 2914653,\n",
       "       2914703, 2914802, 2914901, 2915007, 2915106, 2915205, 2915304,\n",
       "       2915353, 2915403, 2915502, 2915601, 2915700, 2915809, 2915908,\n",
       "       2916005, 2916104, 2916203, 2916302, 2916401, 2916500, 2916609,\n",
       "       2916708, 2916807, 2916856, 2916906, 2917003, 2917102, 2917201,\n",
       "       2917300, 2917334, 2917359, 2917409, 2917508, 2917607, 2917706,\n",
       "       2917805, 2917904, 2918001, 2918100, 2918209, 2918308, 2918357,\n",
       "       2918407, 2918456, 2918506, 2918555, 2918605, 2918704, 2918753,\n",
       "       2918803, 2918902, 2919009, 2919058, 2919108, 2919157, 2919207,\n",
       "       2919306, 2919405, 2919504, 2919603, 2919702, 2919801, 2919900,\n",
       "       2919926, 2919959, 2920007, 2920106, 2920205, 2920304, 2920403,\n",
       "       2920452, 2920502, 2920601, 2920700, 2920809, 2920908, 2921005,\n",
       "       2921054, 2921104, 2921203, 2921302, 2921401, 2921450, 2921500,\n",
       "       2921609, 2921708, 2921807, 2921906, 2922003, 2922052, 2922102,\n",
       "       2922201, 2922250, 2922300, 2922409, 2922508, 2922607, 2922656,\n",
       "       2922706, 2922730, 2922755, 2922805, 2922854, 2922904, 2923001,\n",
       "       2923035, 2923050, 2923100, 2923209, 2923308, 2923357, 2923407,\n",
       "       2923506, 2923605, 2923704, 2923803, 2923902, 2924009, 2924058,\n",
       "       2924108, 2924207, 2924306, 2924405, 2924504, 2924603, 2924652,\n",
       "       2924678, 2924702, 2924801, 2924900, 2925006, 2925105, 2925204,\n",
       "       2925253, 2925303, 2925402, 2925501, 2925600, 2925709, 2925758,\n",
       "       2925808, 2925907, 2925931, 2925956, 2926004, 2926103, 2926202,\n",
       "       2926301, 2926400, 2926509, 2926608, 2926657, 2926707, 2926806,\n",
       "       2926905, 2927002, 2927101, 2927200, 2927309, 2927408, 2927507,\n",
       "       2927606, 2927705, 2927804, 2927903, 2928000, 2928059, 2928109,\n",
       "       2928208, 2928307, 2928406, 2928505, 2928604, 2928703, 2928802,\n",
       "       2928901, 2928950, 2929008, 2929057, 2929107, 2929206, 2929255,\n",
       "       2929305, 2929354, 2929370, 2929404, 2929503, 2929602, 2929701,\n",
       "       2929750, 2929800, 2929909, 2930006, 2930105, 2930154, 2930204,\n",
       "       2930303, 2930402, 2930501, 2930600, 2930709, 2930758, 2930766,\n",
       "       2930774, 2930808, 2930907, 2931004, 2931053, 2931103, 2931202,\n",
       "       2931301, 2931350, 2931400, 2931509, 2931608, 2931707, 2931806,\n",
       "       2931905, 2932002, 2932101, 2932200, 2932309, 2932408, 2932457,\n",
       "       2932507, 2932606, 2932705, 2932804, 2932903, 2933000, 2933059,\n",
       "       2933109, 2933158, 2933174, 2933208, 2933257, 2933307, 2933406,\n",
       "       2933455, 2933505, 2933604, 2903276, 2919553], dtype=int64)"
      ]
     },
     "execution_count": 33,
     "metadata": {},
     "output_type": "execute_result"
    }
   ],
   "source": [
    "bahia = municipio[municipio['estado_abrev']=='BA']\n",
    "bahia['id_municipio'].unique()"
   ]
  },
  {
   "cell_type": "code",
   "execution_count": 34,
   "metadata": {},
   "outputs": [],
   "source": [
    "df = municipio[municipio['id_municipio']==2900000]"
   ]
  },
  {
   "cell_type": "code",
   "execution_count": 35,
   "metadata": {},
   "outputs": [
    {
     "data": {
      "text/plain": [
       "353       1996\n",
       "5191      1997\n",
       "31435     1998\n",
       "111975    1999\n",
       "45102     2000\n",
       "16036     2001\n",
       "12896     2002\n",
       "100158    2003\n",
       "96796     2004\n",
       "53825     2005\n",
       "Name: ano, dtype: int64"
      ]
     },
     "execution_count": 35,
     "metadata": {},
     "output_type": "execute_result"
    }
   ],
   "source": [
    "anos = df['ano'].sort_values()\n",
    "anos"
   ]
  },
  {
   "cell_type": "code",
   "execution_count": 36,
   "metadata": {
    "scrolled": true
   },
   "outputs": [
    {
     "data": {
      "image/png": "[encoded data removed]",
      "text/plain": [
       "<Figure size 1440x720 with 1 Axes>"
      ]
     },
     "metadata": {},
     "output_type": "display_data"
    }
   ],
   "source": [
    "height = [3, 12, 5, 18, 45]\n",
    "bars = ('A', 'B', 'C', 'D', 'E')\n",
    "y_pos = np.arange(len(no2.index))\n",
    " \n",
    "plt.bar(y_pos, no2['numero_obitos'])\n",
    " \n",
    "plt.xticks(y_pos, no2.index)\n",
    "\n",
    "plt.show()"
   ]
  },
  {
   "cell_type": "code",
   "execution_count": 37,
   "metadata": {},
   "outputs": [],
   "source": [
    "#ax = sns.boxplot(x=\"id_municipio\", y=\"numero_obitos\", data=no)\n",
    "#no2.index\n",
    "#no2[no2['numero_obitos']==19].count()\n",
    "#no2.describe()"
   ]
  }
 ],
 "metadata": {
  "kernelspec": {
   "display_name": "Python 3",
   "language": "python",
   "name": "python3"
  },
  "language_info": {
   "codemirror_mode": {
    "name": "ipython",
    "version": 3
   },
   "file_extension": ".py",
   "mimetype": "text/x-python",
   "name": "python",
   "nbconvert_exporter": "python",
   "pygments_lexer": "ipython3",
   "version": "3.6.5"
  }
 },
 "nbformat": 4,
 "nbformat_minor": 4
}
